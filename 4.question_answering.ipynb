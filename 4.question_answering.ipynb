{
 "cells": [
  {
   "cell_type": "code",
   "execution_count": 12,
   "metadata": {},
   "outputs": [],
   "source": [
    "# import os\n",
    "\n",
    "# os.environ[\"OPENAI_API_KEY\"] = \"\""
   ]
  },
  {
   "cell_type": "code",
   "execution_count": null,
   "metadata": {},
   "outputs": [],
   "source": [
    "# !pip install openai==0.27.8\n",
    "# !pip install langchain==0.0.212\n",
    "# !pip install chromadb==0.3.26\n",
    "# !pip install jupyterlab\n",
    "# !pip install pandas\n",
    "# !pip install numpy\n",
    "# !pip install tiktoken==0.4.0\n",
    "# !pip install evaluate==0.4.0\n",
    "# !pip install nltk==3.8.1"
   ]
  },
  {
   "cell_type": "markdown",
   "metadata": {},
   "source": [
    "# Question Answering with LLMs"
   ]
  },
  {
   "cell_type": "markdown",
   "metadata": {},
   "source": [
    "## Agenda\n",
    "\n",
    "- Description\n",
    "- SQuAD\n",
    "- Using LLM for Q&A\n",
    "- Adding context\n",
    "- Conclusion"
   ]
  },
  {
   "cell_type": "markdown",
   "metadata": {},
   "source": [
    "# Description"
   ]
  },
  {
   "cell_type": "markdown",
   "metadata": {},
   "source": [
    "In this notebook we are going to explore Qustion Answering using ChatGPT. \n",
    "We will consider two ways:\n",
    "\n",
    "1. Q&A without context\n",
    "\n",
    "2. Contextual retrieval Q&A"
   ]
  },
  {
   "cell_type": "markdown",
   "metadata": {},
   "source": [
    "Question answering in this context refers to question answering over your document data. We are going to predict answers for the questions in SQuAD dataset using LLM."
   ]
  },
  {
   "cell_type": "markdown",
   "metadata": {},
   "source": [
    "Stanford Question Answering Dataset [(SQuAD)](https://huggingface.co/datasets/squad) is a reading comprehension dataset, consisting of questions posed by crowdworkers on a set of Wikipedia articles, where the answer to every question is a segment of text, or span, from the corresponding reading passage, or the question might be unanswerable."
   ]
  },
  {
   "cell_type": "markdown",
   "metadata": {},
   "source": [
    "We will use \"text-davinci-003\" model from OpenAI. It is large language model from GPT-3.5 family. They can understand and generate natural language or code. \"text-davinci-003\" can do any language task with better quality, longer output, and consistent instruction-following than the curie, babbage, or ada models."
   ]
  },
  {
   "cell_type": "markdown",
   "metadata": {},
   "source": [
    "An embedding is a vector (list) of floating point numbers. The distance between two vectors measures their relatedness. Small distances suggest high relatedness and large distances suggest low relatedness. We will use OpenAI Embeddings API for our task."
   ]
  },
  {
   "cell_type": "markdown",
   "metadata": {},
   "source": [
    "For convinient usage of embeddings with dataset we are going to use vector database.\n",
    "\n",
    "A vector database is a kind of database specifically designed to handle vector data. Vector data is a type of data that can be represented by a set of numerical values in a multidimensional space. In the context of machine learning and AI, vector data often refers to embeddings, which are high-dimensional vectors that encode information about data points."
   ]
  },
  {
   "cell_type": "markdown",
   "metadata": {},
   "source": [
    "As you can notice, Q&A task incudes few components (data, llm, embeddings) that needs to be used together for getting ready to use solution.\n",
    "\n",
    "[LangChain](https://js.langchain.com/docs/) provide very convinient framework to combine these components together.\n",
    "\n",
    "LangChain is a framework for developing applications powered by language models. It enables applications that are:\n",
    "\n",
    "- Data-aware: connect a language model to other sources of data\n",
    "- Agentic: allow a language model to interact with its environment\n",
    "\n",
    "The main value props of LangChain are:\n",
    "\n",
    "- Components: abstractions for working with language models, along with a collection of implementations for each abstraction. Components are modular and easy-to-use, whether you are using the rest of the LangChain framework or not\n",
    "- Off-the-shelf chains: a structured assembly of components for accomplishing specific higher-level tasks"
   ]
  },
  {
   "cell_type": "markdown",
   "metadata": {},
   "source": [
    "## 1. SQuAD dataset loading"
   ]
  },
  {
   "cell_type": "code",
   "execution_count": null,
   "metadata": {},
   "outputs": [],
   "source": [
    "!curl -o data/raw_train.json -X GET \\\n",
    "    \"https://datasets-server.huggingface.co/rows?dataset=squad&config=plain_text&split=train&offset=0&limit=100\""
   ]
  },
  {
   "cell_type": "markdown",
   "metadata": {},
   "source": [
    "Lets convert json data to csv format for more convinient usage"
   ]
  },
  {
   "cell_type": "code",
   "execution_count": 2,
   "metadata": {},
   "outputs": [],
   "source": [
    "import json\n",
    "import pandas as pd\n",
    "\n",
    "\n",
    "def convert_squad_to_csv(json_file, csv_file):\n",
    "    \"\"\"Convert raw SQuAD json data to csv format\"\"\"\n",
    "\n",
    "    with open(json_file, 'r') as f:\n",
    "        squad_dict = json.load(f)\n",
    "\n",
    "    id_list = []\n",
    "    context_list = []\n",
    "    question_list = []\n",
    "    answer_list = []\n",
    "\n",
    "    for row in squad_dict['rows']:\n",
    "        data = row['row']\n",
    "        id_list.append(data['id'])\n",
    "        context_list.append(data['context'])\n",
    "        question_list.append(data['question'])\n",
    "        answer_list.append(data['answers']['text'][0])\n",
    "\n",
    "    df = pd.DataFrame(zip(id_list, question_list, context_list, answer_list), \n",
    "                      columns=['id', 'question', 'context', 'answer'])\n",
    "    df.to_csv(csv_file, index=False)\n"
   ]
  },
  {
   "cell_type": "code",
   "execution_count": 3,
   "metadata": {},
   "outputs": [],
   "source": [
    "convert_squad_to_csv('data/raw_train.json', 'data/train.csv')"
   ]
  },
  {
   "cell_type": "markdown",
   "metadata": {},
   "source": [
    "### 1.1. EDA"
   ]
  },
  {
   "cell_type": "markdown",
   "metadata": {},
   "source": [
    "Lets see how is our data distribute, we are most interested in columns 'question' and 'context'. We want to know the \"size\" of our data in order to be able to estimate costs for API usage"
   ]
  },
  {
   "cell_type": "code",
   "execution_count": 4,
   "metadata": {},
   "outputs": [
    {
     "name": "stdout",
     "output_type": "stream",
     "text": [
      "100\n"
     ]
    },
    {
     "data": {
      "text/html": [
       "<div>\n",
       "<style scoped>\n",
       "    .dataframe tbody tr th:only-of-type {\n",
       "        vertical-align: middle;\n",
       "    }\n",
       "\n",
       "    .dataframe tbody tr th {\n",
       "        vertical-align: top;\n",
       "    }\n",
       "\n",
       "    .dataframe thead th {\n",
       "        text-align: right;\n",
       "    }\n",
       "</style>\n",
       "<table border=\"1\" class=\"dataframe\">\n",
       "  <thead>\n",
       "    <tr style=\"text-align: right;\">\n",
       "      <th></th>\n",
       "      <th>id</th>\n",
       "      <th>question</th>\n",
       "      <th>context</th>\n",
       "      <th>answer</th>\n",
       "    </tr>\n",
       "  </thead>\n",
       "  <tbody>\n",
       "    <tr>\n",
       "      <th>0</th>\n",
       "      <td>5733be284776f41900661182</td>\n",
       "      <td>To whom did the Virgin Mary allegedly appear i...</td>\n",
       "      <td>Architecturally, the school has a Catholic cha...</td>\n",
       "      <td>Saint Bernadette Soubirous</td>\n",
       "    </tr>\n",
       "    <tr>\n",
       "      <th>1</th>\n",
       "      <td>5733be284776f4190066117f</td>\n",
       "      <td>What is in front of the Notre Dame Main Building?</td>\n",
       "      <td>Architecturally, the school has a Catholic cha...</td>\n",
       "      <td>a copper statue of Christ</td>\n",
       "    </tr>\n",
       "    <tr>\n",
       "      <th>2</th>\n",
       "      <td>5733be284776f41900661180</td>\n",
       "      <td>The Basilica of the Sacred heart at Notre Dame...</td>\n",
       "      <td>Architecturally, the school has a Catholic cha...</td>\n",
       "      <td>the Main Building</td>\n",
       "    </tr>\n",
       "    <tr>\n",
       "      <th>3</th>\n",
       "      <td>5733be284776f41900661181</td>\n",
       "      <td>What is the Grotto at Notre Dame?</td>\n",
       "      <td>Architecturally, the school has a Catholic cha...</td>\n",
       "      <td>a Marian place of prayer and reflection</td>\n",
       "    </tr>\n",
       "    <tr>\n",
       "      <th>4</th>\n",
       "      <td>5733be284776f4190066117e</td>\n",
       "      <td>What sits on top of the Main Building at Notre...</td>\n",
       "      <td>Architecturally, the school has a Catholic cha...</td>\n",
       "      <td>a golden statue of the Virgin Mary</td>\n",
       "    </tr>\n",
       "  </tbody>\n",
       "</table>\n",
       "</div>"
      ],
      "text/plain": [
       "                         id  \\\n",
       "0  5733be284776f41900661182   \n",
       "1  5733be284776f4190066117f   \n",
       "2  5733be284776f41900661180   \n",
       "3  5733be284776f41900661181   \n",
       "4  5733be284776f4190066117e   \n",
       "\n",
       "                                            question  \\\n",
       "0  To whom did the Virgin Mary allegedly appear i...   \n",
       "1  What is in front of the Notre Dame Main Building?   \n",
       "2  The Basilica of the Sacred heart at Notre Dame...   \n",
       "3                  What is the Grotto at Notre Dame?   \n",
       "4  What sits on top of the Main Building at Notre...   \n",
       "\n",
       "                                             context  \\\n",
       "0  Architecturally, the school has a Catholic cha...   \n",
       "1  Architecturally, the school has a Catholic cha...   \n",
       "2  Architecturally, the school has a Catholic cha...   \n",
       "3  Architecturally, the school has a Catholic cha...   \n",
       "4  Architecturally, the school has a Catholic cha...   \n",
       "\n",
       "                                    answer  \n",
       "0               Saint Bernadette Soubirous  \n",
       "1                a copper statue of Christ  \n",
       "2                        the Main Building  \n",
       "3  a Marian place of prayer and reflection  \n",
       "4       a golden statue of the Virgin Mary  "
      ]
     },
     "execution_count": 4,
     "metadata": {},
     "output_type": "execute_result"
    }
   ],
   "source": [
    "train_df = pd.read_csv('data/train.csv')\n",
    "print(len(train_df))\n",
    "train_df.head()"
   ]
  },
  {
   "cell_type": "code",
   "execution_count": 182,
   "metadata": {},
   "outputs": [
    {
     "data": {
      "text/plain": [
       "<AxesSubplot: >"
      ]
     },
     "execution_count": 182,
     "metadata": {},
     "output_type": "execute_result"
    },
    {
     "data": {
      "image/png": "[encoded data removed]",
      "text/plain": [
       "<Figure size 640x480 with 1 Axes>"
      ]
     },
     "metadata": {},
     "output_type": "display_data"
    }
   ],
   "source": [
    "train_df['question'].map(len).hist(bins=20)"
   ]
  },
  {
   "cell_type": "code",
   "execution_count": 183,
   "metadata": {},
   "outputs": [
    {
     "data": {
      "text/plain": [
       "<AxesSubplot: >"
      ]
     },
     "execution_count": 183,
     "metadata": {},
     "output_type": "execute_result"
    },
    {
     "data": {
      "image/png": "[encoded data removed]",
      "text/plain": [
       "<Figure size 640x480 with 1 Axes>"
      ]
     },
     "metadata": {},
     "output_type": "display_data"
    }
   ],
   "source": [
    "train_df['context'].drop_duplicates().map(len).hist(bins=20)"
   ]
  },
  {
   "cell_type": "code",
   "execution_count": null,
   "metadata": {},
   "outputs": [],
   "source": []
  },
  {
   "cell_type": "markdown",
   "metadata": {},
   "source": [
    "## 2. Perform Q&A with LLM"
   ]
  },
  {
   "cell_type": "code",
   "execution_count": 5,
   "metadata": {},
   "outputs": [],
   "source": [
    "from langchain import FewShotPromptTemplate\n",
    "from langchain import PromptTemplate"
   ]
  },
  {
   "cell_type": "markdown",
   "metadata": {},
   "source": [
    "### 2.1. Few-shot"
   ]
  },
  {
   "cell_type": "markdown",
   "metadata": {},
   "source": [
    "Few-shot learning is a machine learning approach where the model learns to make accurate predictions from a very small number of examples, typically in the order of one to five. This technique offers significant benefits such as efficiency in handling sparse data and the ability to generalize well from limited information, making it a versatile choice for tasks where acquiring large labeled datasets is challenging or costly."
   ]
  },
  {
   "cell_type": "code",
   "execution_count": 6,
   "metadata": {},
   "outputs": [],
   "source": [
    "def get_examples(df):\n",
    "    examples = []\n",
    "    for i, row in df.sample(3).iterrows():\n",
    "        example = {\n",
    "            \"query\": row['question'],\n",
    "            \"answer\": row['answer']\n",
    "        }\n",
    "        examples.append(example)\n",
    "    \n",
    "    return examples"
   ]
  },
  {
   "cell_type": "markdown",
   "metadata": {},
   "source": [
    "Collect examples from data"
   ]
  },
  {
   "cell_type": "code",
   "execution_count": 7,
   "metadata": {},
   "outputs": [
    {
     "data": {
      "text/plain": [
       "[{'query': 'How many stories tall is the main library at Notre Dame?',\n",
       "  'answer': '14'},\n",
       " {'query': 'Which prize did Frederick Buechner create?',\n",
       "  'answer': 'Buechner Prize for Preaching'},\n",
       " {'query': 'There are how many dorms for females at Notre Dame?',\n",
       "  'answer': '14'}]"
      ]
     },
     "execution_count": 7,
     "metadata": {},
     "output_type": "execute_result"
    }
   ],
   "source": [
    "examples = get_examples(train_df)\n",
    "examples"
   ]
  },
  {
   "cell_type": "code",
   "execution_count": 8,
   "metadata": {},
   "outputs": [],
   "source": [
    "# create a example template\n",
    "example_template = \"\"\"\n",
    "User: {query}\n",
    "AI: {answer}\n",
    "\"\"\"\n",
    "\n",
    "# create a prompt example from above template\n",
    "example_prompt = PromptTemplate(\n",
    "    input_variables=[\"query\", \"answer\"],\n",
    "    template=example_template\n",
    ")\n",
    "\n",
    "# now break our previous prompt into a prefix and suffix\n",
    "# the prefix is our instructions\n",
    "prefix = \"\"\"You are a useful assistant with artificial intelligence who gives \n",
    "short but accurate answers to the questions asked.\n",
    "examples: \n",
    "\"\"\"\n",
    "# and the suffix our user input and output indicator\n",
    "suffix = \"\"\"\n",
    "User: {query}\n",
    "AI: \"\"\""
   ]
  },
  {
   "cell_type": "markdown",
   "metadata": {},
   "source": [
    "Build our few-shot prompt"
   ]
  },
  {
   "cell_type": "code",
   "execution_count": 9,
   "metadata": {},
   "outputs": [],
   "source": [
    "# now create the few shot prompt template\n",
    "few_shot_prompt_template = FewShotPromptTemplate(\n",
    "    examples=examples,\n",
    "    example_prompt=example_prompt,\n",
    "    prefix=prefix,\n",
    "    suffix=suffix,\n",
    "    input_variables=[\"query\"],\n",
    "    example_separator=\"\\n\\n\"\n",
    ")"
   ]
  },
  {
   "cell_type": "markdown",
   "metadata": {},
   "source": [
    "Prompt example"
   ]
  },
  {
   "cell_type": "code",
   "execution_count": 10,
   "metadata": {},
   "outputs": [
    {
     "name": "stdout",
     "output_type": "stream",
     "text": [
      "You are a useful assistant with artificial intelligence who gives \n",
      "short but accurate answers to the questions asked.\n",
      "examples: \n",
      "\n",
      "\n",
      "\n",
      "User: How many stories tall is the main library at Notre Dame?\n",
      "AI: 14\n",
      "\n",
      "\n",
      "\n",
      "User: Which prize did Frederick Buechner create?\n",
      "AI: Buechner Prize for Preaching\n",
      "\n",
      "\n",
      "\n",
      "User: There are how many dorms for females at Notre Dame?\n",
      "AI: 14\n",
      "\n",
      "\n",
      "\n",
      "User: What is the meaning of life?\n",
      "AI: \n"
     ]
    }
   ],
   "source": [
    "print(few_shot_prompt_template.format(query=\"What is the meaning of life?\"))"
   ]
  },
  {
   "cell_type": "markdown",
   "metadata": {},
   "source": [
    "Lets evaluate our model on 30 examples:"
   ]
  },
  {
   "cell_type": "code",
   "execution_count": 13,
   "metadata": {},
   "outputs": [],
   "source": [
    "samples = train_df.sample(30)"
   ]
  },
  {
   "cell_type": "markdown",
   "metadata": {},
   "source": [
    "### 2.2 Use LLM to predict answers"
   ]
  },
  {
   "cell_type": "code",
   "execution_count": 14,
   "metadata": {},
   "outputs": [],
   "source": [
    "from langchain.llms import OpenAI\n",
    "\n",
    "\n",
    "# initialize the models\n",
    "llm = OpenAI(\n",
    "    model_name=\"text-davinci-003\"\n",
    ")"
   ]
  },
  {
   "cell_type": "markdown",
   "metadata": {},
   "source": [
    "We use [LLMchain](https://js.langchain.com/docs/modules/chains/llm_chain) to wrap our prompt template with a llm. An LLMChain is a simple chain that adds some functionality around language models, in our case we put llm and prompt template together."
   ]
  },
  {
   "cell_type": "code",
   "execution_count": 16,
   "metadata": {},
   "outputs": [],
   "source": [
    "from langchain.chains import LLMChain\n",
    "\n",
    "\n",
    "chain = LLMChain(llm=llm, prompt=few_shot_prompt_template)"
   ]
  },
  {
   "cell_type": "markdown",
   "metadata": {},
   "source": [
    "Predict answer for each question, we will keep answers from our llm in \"llm_answers\" column"
   ]
  },
  {
   "cell_type": "code",
   "execution_count": null,
   "metadata": {},
   "outputs": [],
   "source": [
    "samples['llm_answers'] = samples['question'].map(llm.run)"
   ]
  },
  {
   "cell_type": "code",
   "execution_count": null,
   "metadata": {},
   "outputs": [],
   "source": [
    "samples.to_csv('data/sample_answers.csv', index=False)"
   ]
  },
  {
   "cell_type": "markdown",
   "metadata": {},
   "source": [
    "Lets see at sample of results"
   ]
  },
  {
   "cell_type": "code",
   "execution_count": null,
   "metadata": {},
   "outputs": [
    {
     "data": {
      "text/html": [
       "<div>\n",
       "<style scoped>\n",
       "    .dataframe tbody tr th:only-of-type {\n",
       "        vertical-align: middle;\n",
       "    }\n",
       "\n",
       "    .dataframe tbody tr th {\n",
       "        vertical-align: top;\n",
       "    }\n",
       "\n",
       "    .dataframe thead th {\n",
       "        text-align: right;\n",
       "    }\n",
       "</style>\n",
       "<table border=\"1\" class=\"dataframe\">\n",
       "  <thead>\n",
       "    <tr style=\"text-align: right;\">\n",
       "      <th></th>\n",
       "      <th>id</th>\n",
       "      <th>question</th>\n",
       "      <th>context</th>\n",
       "      <th>answer</th>\n",
       "      <th>llm_answers</th>\n",
       "    </tr>\n",
       "  </thead>\n",
       "  <tbody>\n",
       "    <tr>\n",
       "      <th>71</th>\n",
       "      <td>5733b5344776f419006610e0</td>\n",
       "      <td>In what year did Notre Dame begin to host the ...</td>\n",
       "      <td>As of 2012[update] research continued in many ...</td>\n",
       "      <td>2013</td>\n",
       "      <td>2016</td>\n",
       "    </tr>\n",
       "    <tr>\n",
       "      <th>62</th>\n",
       "      <td>5733b2fe4776f41900661093</td>\n",
       "      <td>The Lobund Institute was merged into the Depar...</td>\n",
       "      <td>The Lobund Institute grew out of pioneering re...</td>\n",
       "      <td>1958</td>\n",
       "      <td>1966</td>\n",
       "    </tr>\n",
       "    <tr>\n",
       "      <th>20</th>\n",
       "      <td>5733a70c4776f41900660f64</td>\n",
       "      <td>What entity provides help with the management ...</td>\n",
       "      <td>All of Notre Dame's undergraduate students are...</td>\n",
       "      <td>Learning Resource Center</td>\n",
       "      <td>The First Year of Studies Office.</td>\n",
       "    </tr>\n",
       "    <tr>\n",
       "      <th>17</th>\n",
       "      <td>5733a6424776f41900660f4f</td>\n",
       "      <td>Before the creation of the College of Engineer...</td>\n",
       "      <td>The College of Engineering was established in ...</td>\n",
       "      <td>the College of Science</td>\n",
       "      <td>College of Science</td>\n",
       "    </tr>\n",
       "    <tr>\n",
       "      <th>10</th>\n",
       "      <td>5733bed24776f41900661188</td>\n",
       "      <td>Where is the headquarters of the Congregation ...</td>\n",
       "      <td>The university is the major seat of the Congre...</td>\n",
       "      <td>Rome</td>\n",
       "      <td>Rome, Italy</td>\n",
       "    </tr>\n",
       "  </tbody>\n",
       "</table>\n",
       "</div>"
      ],
      "text/plain": [
       "                          id  \\\n",
       "71  5733b5344776f419006610e0   \n",
       "62  5733b2fe4776f41900661093   \n",
       "20  5733a70c4776f41900660f64   \n",
       "17  5733a6424776f41900660f4f   \n",
       "10  5733bed24776f41900661188   \n",
       "\n",
       "                                             question  \\\n",
       "71  In what year did Notre Dame begin to host the ...   \n",
       "62  The Lobund Institute was merged into the Depar...   \n",
       "20  What entity provides help with the management ...   \n",
       "17  Before the creation of the College of Engineer...   \n",
       "10  Where is the headquarters of the Congregation ...   \n",
       "\n",
       "                                              context  \\\n",
       "71  As of 2012[update] research continued in many ...   \n",
       "62  The Lobund Institute grew out of pioneering re...   \n",
       "20  All of Notre Dame's undergraduate students are...   \n",
       "17  The College of Engineering was established in ...   \n",
       "10  The university is the major seat of the Congre...   \n",
       "\n",
       "                      answer                         llm_answers  \n",
       "71                      2013                                2016  \n",
       "62                      1958                                1966  \n",
       "20  Learning Resource Center   The First Year of Studies Office.  \n",
       "17    the College of Science                  College of Science  \n",
       "10                      Rome                         Rome, Italy  "
      ]
     },
     "execution_count": 59,
     "metadata": {},
     "output_type": "execute_result"
    }
   ],
   "source": [
    "samples.sample(5)"
   ]
  },
  {
   "cell_type": "markdown",
   "metadata": {},
   "source": [
    "As we can see, the model can stick to the correct format, but the facts can be distorted"
   ]
  },
  {
   "cell_type": "markdown",
   "metadata": {},
   "source": [
    "### 2.3. Evaluating LLM"
   ]
  },
  {
   "cell_type": "markdown",
   "metadata": {},
   "source": [
    "As per we have ground truths, we can measure the LLM quality on our dataset"
   ]
  },
  {
   "cell_type": "markdown",
   "metadata": {},
   "source": [
    "We will use squad and ROUGE metric to evaluate Q&A score.\n",
    "\n",
    "[squad score](https://huggingface.co/spaces/evaluate-metric/squad_v2) - wraps the official scoring script for evaluating in SQuAD chellenge."
   ]
  },
  {
   "cell_type": "markdown",
   "metadata": {},
   "source": [
    "`exact`: Exact match (the normalized answer exactly match the gold answer) (see the exact_match metric (forthcoming))\\\n",
    "`f1`: The average F1-score of predicted tokens versus the gold answer (see the F1 score metric)\\\n",
    "`total`: Number of scores considered'\\\n",
    "`HasAns_exact`: Exact match (the normalized answer exactly match the gold answer)\\\n",
    "`HasAns_f1`: The F-score of predicted tokens versus the gold answer\\\n",
    "`HasAns_total`: How many of the questions have answers\\\n",
    "`NoAns_exact`: Exact match (the normalized answer exactly match the gold answer)\\\n",
    "`NoAns_f1`: The F-score of predicted tokens versus the gold answer\\\n",
    "`NoAns_total`: How many of the questions have no answers\\\n",
    "`best_exact` : Best exact match (with varying threshold)\\\n",
    "`best_exact_thresh`: No-answer probability threshold associated to the best exact match\\\n",
    "`best_f1`: Best F1 score (with varying threshold)\\\n",
    "`best_f1_thresh`: No-answer probability threshold associated to the best F1"
   ]
  },
  {
   "cell_type": "markdown",
   "metadata": {},
   "source": [
    "[ROUGE](https://en.wikipedia.org/wiki/ROUGE_(metric)), or Recall-Oriented Understudy for Gisting Evaluation, is a set of metrics used for evaluating automatic summarization and machine translation. ROUGE includes measures such as:\n",
    "\n",
    "- ROUGE-N: Overlap of N-grams between the system and reference summaries.\n",
    "- ROUGE-L: Longest Common Subsequence (LCS) based statistics. Longest common subsequence problem takes into account sentence level structure similarity naturally and identifies longest co-occurring in sequence n-grams automatically."
   ]
  },
  {
   "cell_type": "markdown",
   "metadata": {},
   "source": [
    "Question Answering (QA) tasks often require a system to generate precise and concise answers to specific questions. In some QA scenarios, especially those involving more complex or open-ended questions, the answers can be quite long, and there can be more than one correct answer. In such cases, using a metric like Exact Match (EM), which requires the system's output to match the reference answer exactly, might not be appropriate.\n",
    "\n",
    "ROUGE metrics, initially developed for evaluating automatic summarization tasks, measure the overlap of n-grams between the system output and the reference text. ROUGE can be more flexible and forgiving than EM because it doesn't require the system's output to exactly match the reference. Instead, it measures the extent to which the key pieces of information (as represented by the n-grams) in the reference text also appear in the system's output.\n",
    "\n",
    "So, if you have a QA task where the answers and reference texts are quite long, and you're more interested in the system's ability to include all the key pieces of information in its answer rather than its ability to exactly reproduce the reference text, then ROUGE could be an appropriate choice of metric.\n",
    "\n",
    "For instance, ROUGE-1 or ROUGE-2 could be used to measure the overlap of unigrams or bigrams, respectively, which can give a sense of whether the system is including all the key terms or pairs of terms. ROUGE-L, which measures the longest common subsequence, could be used to measure whether the system is maintaining the same general order of information as in the reference text."
   ]
  },
  {
   "cell_type": "code",
   "execution_count": 31,
   "metadata": {},
   "outputs": [],
   "source": [
    "import evaluate\n",
    "\n",
    "\n",
    "rouge = evaluate.load('rouge')\n",
    "squad_metric = evaluate.load(\"squad_v2\")"
   ]
  },
  {
   "cell_type": "code",
   "execution_count": 32,
   "metadata": {},
   "outputs": [],
   "source": [
    "def evaluate_llm(samples, pred_col='llm_answers'):\n",
    "    references = samples['answer'].values\n",
    "    predictions = samples[pred_col].values\n",
    "\n",
    "    rouge_res = rouge.compute(predictions=predictions, references=references)\n",
    "\n",
    "    references, predictions = [], []\n",
    "\n",
    "    for _, row in samples.iterrows():\n",
    "        predict = {\n",
    "            'prediction_text': row[pred_col],\n",
    "            'id': row['id'],\n",
    "            'no_answer_probability': 0.\n",
    "        }\n",
    "        predictions.append(predict)\n",
    "        \n",
    "        reference = {\n",
    "            'answers': {\n",
    "                'text': [row['answer']],\n",
    "                'answer_start': [0]\n",
    "            },\n",
    "            'id': row['id']\n",
    "        }\n",
    "        references.append(reference)\n",
    "\n",
    "    res = squad_metric.compute(predictions=predictions, references=references)\n",
    "    res.update(rouge_res)\n",
    "    return res"
   ]
  },
  {
   "cell_type": "code",
   "execution_count": null,
   "metadata": {},
   "outputs": [
    {
     "data": {
      "text/plain": [
       "{'exact': 10.0,\n",
       " 'f1': 28.064213564213567,\n",
       " 'total': 30,\n",
       " 'HasAns_exact': 10.0,\n",
       " 'HasAns_f1': 28.064213564213567,\n",
       " 'HasAns_total': 30,\n",
       " 'best_exact': 10.0,\n",
       " 'best_exact_thresh': 0.0,\n",
       " 'best_f1': 28.064213564213567,\n",
       " 'best_f1_thresh': 0.0,\n",
       " 'rouge1': 0.2881613756613757,\n",
       " 'rouge2': 0.11999999999999998,\n",
       " 'rougeL': 0.2894708994708995,\n",
       " 'rougeLsum': 0.2831283068783069}"
      ]
     },
     "execution_count": 86,
     "metadata": {},
     "output_type": "execute_result"
    }
   ],
   "source": [
    "evaluate_llm(samples)"
   ]
  },
  {
   "cell_type": "markdown",
   "metadata": {},
   "source": [
    "rouge score is not well, lets try to improve it by using context"
   ]
  },
  {
   "cell_type": "markdown",
   "metadata": {},
   "source": [
    "## 3. Provide context to the model"
   ]
  },
  {
   "cell_type": "markdown",
   "metadata": {},
   "source": [
    "![Data retrivial](https://python.langchain.com/assets/images/data_connection-c42d68c3d092b85f50d08d4cc171fc25.jpg)\n",
    "https://python.langchain.com/docs/modules/data_connection/"
   ]
  },
  {
   "cell_type": "markdown",
   "metadata": {},
   "source": [
    "Despite OpenAI text-davinci-003 was trained on huge amount of data including wikipedia and SQuAd, model can forget some information due to parameters size and data size."
   ]
  },
  {
   "cell_type": "markdown",
   "metadata": {},
   "source": [
    "As a llm can continue sequence by given sequence, we can engage context for more robust and accurate performance"
   ]
  },
  {
   "cell_type": "markdown",
   "metadata": {},
   "source": [
    "For question answering over many documents, you almost always want to create an index over the data. This can be used to smartly access the most relevant documents for a given question, allowing you to avoid having to pass all the documents to the LLM (saving you time and money)."
   ]
  },
  {
   "cell_type": "markdown",
   "metadata": {},
   "source": [
    "We are going to provide context along the answers to our llm"
   ]
  },
  {
   "cell_type": "code",
   "execution_count": 33,
   "metadata": {},
   "outputs": [],
   "source": [
    "from langchain.document_loaders import DataFrameLoader"
   ]
  },
  {
   "cell_type": "markdown",
   "metadata": {},
   "source": [
    "### 3.1 Load data"
   ]
  },
  {
   "cell_type": "code",
   "execution_count": 34,
   "metadata": {},
   "outputs": [],
   "source": [
    "loader = DataFrameLoader(train_df.drop_duplicates(subset=['context'])[['context']], page_content_column=\"context\")\n",
    "data = loader.load()"
   ]
  },
  {
   "cell_type": "code",
   "execution_count": 35,
   "metadata": {},
   "outputs": [
    {
     "data": {
      "text/plain": [
       "21"
      ]
     },
     "execution_count": 35,
     "metadata": {},
     "output_type": "execute_result"
    }
   ],
   "source": [
    "len(data)"
   ]
  },
  {
   "cell_type": "code",
   "execution_count": 36,
   "metadata": {},
   "outputs": [
    {
     "data": {
      "text/plain": [
       "[Document(page_content='Architecturally, the school has a Catholic character. Atop the Main Building\\'s gold dome is a golden statue of the Virgin Mary. Immediately in front of the Main Building and facing it, is a copper statue of Christ with arms upraised with the legend \"Venite Ad Me Omnes\". Next to the Main Building is the Basilica of the Sacred Heart. Immediately behind the basilica is the Grotto, a Marian place of prayer and reflection. It is a replica of the grotto at Lourdes, France where the Virgin Mary reputedly appeared to Saint Bernadette Soubirous in 1858. At the end of the main drive (and in a direct line that connects through 3 statues and the Gold Dome), is a simple, modern stone statue of Mary.', metadata={}),\n",
       " Document(page_content=\"As at most other universities, Notre Dame's students run a number of news media outlets. The nine student-run outlets include three newspapers, both a radio and television station, and several magazines and journals. Begun as a one-page journal in September 1876, the Scholastic magazine is issued twice monthly and claims to be the oldest continuous collegiate publication in the United States. The other magazine, The Juggler, is released twice a year and focuses on student literature and artwork. The Dome yearbook is published annually. The newspapers have varying publication interests, with The Observer published daily and mainly reporting university and other news, and staffed by students from both Notre Dame and Saint Mary's College. Unlike Scholastic and The Dome, The Observer is an independent publication and does not have a faculty advisor or any editorial oversight from the University. In 1987, when some students believed that The Observer began to show a conservative bias, a liberal newspaper, Common Sense was published. Likewise, in 2003, when other students believed that the paper showed a liberal bias, the conservative paper Irish Rover went into production. Neither paper is published as often as The Observer; however, all three are distributed to all students. Finally, in Spring 2008 an undergraduate journal for political science research, Beyond Politics, made its debut.\", metadata={})]"
      ]
     },
     "execution_count": 36,
     "metadata": {},
     "output_type": "execute_result"
    }
   ],
   "source": [
    "data[:2]"
   ]
  },
  {
   "cell_type": "markdown",
   "metadata": {},
   "source": [
    "### 3.2 Store context and its embeddings in Chroma vector db"
   ]
  },
  {
   "cell_type": "markdown",
   "metadata": {},
   "source": [
    "Chroma is the open-source embedding database."
   ]
  },
  {
   "cell_type": "markdown",
   "metadata": {},
   "source": [
    "![Croma](https://docs.trychroma.com/img/hrm4.svg)\n",
    "https://docs.trychroma.com/"
   ]
  },
  {
   "cell_type": "markdown",
   "metadata": {},
   "source": [
    "Chroma gives you the tools to:\n",
    "\n",
    "- store embeddings and their metadata\n",
    "- embed documents and queries\n",
    "- search embeddings"
   ]
  },
  {
   "cell_type": "markdown",
   "metadata": {},
   "source": [
    "We will use OpenAI Embeddigs API to get vector representation of our data"
   ]
  },
  {
   "cell_type": "code",
   "execution_count": 53,
   "metadata": {},
   "outputs": [],
   "source": [
    "from langchain.embeddings import OpenAIEmbeddings\n",
    "\n",
    "\n",
    "embeddings = OpenAIEmbeddings(model='text-embedding-ada-002')"
   ]
  },
  {
   "cell_type": "markdown",
   "metadata": {},
   "source": [
    "We store text along with embeddings. Under the hood, we are saying OpenAI API: generate vector representation for each document we provided. After that we put these vectors along with this documents itself.  "
   ]
  },
  {
   "cell_type": "markdown",
   "metadata": {},
   "source": [
    "Lets create our vector store.\n",
    "\n",
    "We pass `data` and `embeddings` as an arguments. \n",
    "\n",
    "In real-life applications, we want to store our vectors and index in a persistent manner. To achieve this, we are going to pass the `persist_directory` argument, which specifies where to store our data. Then, `db.persist()` will persist the data"
   ]
  },
  {
   "cell_type": "code",
   "execution_count": 64,
   "metadata": {},
   "outputs": [],
   "source": [
    "from langchain.vectorstores import Chroma\n",
    "\n",
    "\n",
    "PERSIST_DIRECTORY = 'data/vstore'\n",
    "\n",
    "db = Chroma.from_documents(data, embeddings, persist_directory=PERSIST_DIRECTORY)\n",
    "db.persist()"
   ]
  },
  {
   "cell_type": "markdown",
   "metadata": {},
   "source": [
    "Now we can use index to get context which would be most appropriate in terms of similarity to query we will provide"
   ]
  },
  {
   "cell_type": "code",
   "execution_count": 57,
   "metadata": {},
   "outputs": [],
   "source": [
    "retriever = db.as_retriever()"
   ]
  },
  {
   "cell_type": "markdown",
   "metadata": {},
   "source": [
    "Lets show how it looks like"
   ]
  },
  {
   "cell_type": "code",
   "execution_count": 42,
   "metadata": {},
   "outputs": [],
   "source": [
    "def pretty_print_docs(docs):\n",
    "    \"\"\"Helper function for printing docs\"\"\"\n",
    "    print(f\"\\n{'-' * 100}\\n\".join([f\"Document {i+1}:\\n\\n\" + d.page_content for i, d in enumerate(docs)]))"
   ]
  },
  {
   "cell_type": "code",
   "execution_count": 43,
   "metadata": {},
   "outputs": [
    {
     "name": "stdout",
     "output_type": "stream",
     "text": [
      "Document 1:\n",
      "\n",
      "Architecturally, the school has a Catholic character. Atop the Main Building's gold dome is a golden statue of the Virgin Mary. Immediately in front of the Main Building and facing it, is a copper statue of Christ with arms upraised with the legend \"Venite Ad Me Omnes\". Next to the Main Building is the Basilica of the Sacred Heart. Immediately behind the basilica is the Grotto, a Marian place of prayer and reflection. It is a replica of the grotto at Lourdes, France where the Virgin Mary reputedly appeared to Saint Bernadette Soubirous in 1858. At the end of the main drive (and in a direct line that connects through 3 statues and the Gold Dome), is a simple, modern stone statue of Mary.\n",
      "----------------------------------------------------------------------------------------------------\n",
      "Document 2:\n",
      "\n",
      "The library system of the university is divided between the main library and each of the colleges and schools. The main building is the 14-story Theodore M. Hesburgh Library, completed in 1963, which is the third building to house the main collection of books. The front of the library is adorned with the Word of Life mural designed by artist Millard Sheets. This mural is popularly known as \"Touchdown Jesus\" because of its proximity to Notre Dame Stadium and Jesus' arms appearing to make the signal for a touchdown.\n",
      "----------------------------------------------------------------------------------------------------\n",
      "Document 3:\n",
      "\n",
      "The university is affiliated with the Congregation of Holy Cross (Latin: Congregatio a Sancta Cruce, abbreviated postnominals: \"CSC\"). While religious affiliation is not a criterion for admission, more than 93% of students identify as Christian, with over 80% of the total being Catholic. Collectively, Catholic Mass is celebrated over 100 times per week on campus, and a large campus ministry program provides for the faith needs of the community. There are multitudes of religious statues and artwork around campus, most prominent of which are the statue of Mary on the Main Building, the Notre Dame Grotto, and the Word of Life mural on Hesburgh Library depicting Christ as a teacher. Additionally, every classroom displays a crucifix. There are many religious clubs (catholic and non-Catholic) at the school, including Council #1477 of the Knights of Columbus (KOC), Baptist Collegiate Ministry (BCM), Jewish Club, Muslim Student Association, Orthodox Christian Fellowship, The Mormon Club, and many more. The Notre Dame KofC are known for being the first collegiate council of KofC, operating a charitable concession stand during every home football game and owning their own building on campus which can be used as a cigar lounge. Fifty-seven chapels are located throughout the campus.\n",
      "----------------------------------------------------------------------------------------------------\n",
      "Document 4:\n",
      "\n",
      "As of 2012[update] research continued in many fields. The university president, John Jenkins, described his hope that Notre Dame would become \"one of the pre–eminent research institutions in the world\" in his inaugural address. The university has many multi-disciplinary institutes devoted to research in varying fields, including the Medieval Institute, the Kellogg Institute for International Studies, the Kroc Institute for International Peace studies, and the Center for Social Concerns. Recent research includes work on family conflict and child development, genome mapping, the increasing trade deficit of the United States with China, studies in fluid mechanics, computational science and engineering, and marketing trends on the Internet. As of 2013, the university is home to the Notre Dame Global Adaptation Index which ranks countries annually based on how vulnerable they are to climate change and how prepared they are to adapt.\n"
     ]
    }
   ],
   "source": [
    "matches = retriever.vectorstore.search(\"What is in front of the Notre Dame Main Building?\", 'similarity')\n",
    "pretty_print_docs(matches)"
   ]
  },
  {
   "cell_type": "markdown",
   "metadata": {},
   "source": [
    "We have provided a query and expect to get context which is most similar to our query. How do we decide which context is more similar than another one? That's why we use embeddings. Embeddings can represent our text in a way that keeps similar texts close in vector space and dissimilar ones far away. When we use a retriever, we are comparing the query embedding with each context embedding and picking up the closest one. In cell above we have picked up five most similar context sorted by relevance."
   ]
  },
  {
   "cell_type": "code",
   "execution_count": null,
   "metadata": {},
   "outputs": [],
   "source": []
  },
  {
   "cell_type": "markdown",
   "metadata": {},
   "source": [
    "So, if you want to load vector db from disk, you have to use the following code"
   ]
  },
  {
   "cell_type": "code",
   "execution_count": 62,
   "metadata": {},
   "outputs": [],
   "source": [
    "db = Chroma(persist_directory=PERSIST_DIRECTORY, embedding_function=embeddings)"
   ]
  },
  {
   "cell_type": "markdown",
   "metadata": {},
   "source": [
    "### 3.3 Retrieving context"
   ]
  },
  {
   "cell_type": "markdown",
   "metadata": {},
   "source": [
    "![](https://python.langchain.com/assets/images/qa_flow-9fbd91de9282eb806bda1c6db501ecec.jpeg)\n",
    "https://python.langchain.com/docs/use_cases/question_answering/"
   ]
  },
  {
   "cell_type": "markdown",
   "metadata": {},
   "source": [
    "Chains in LangChain is just a wappers for common components like llms, prompts, etc. We are going to use built in chain [qa_chain](https://python.langchain.com/docs/modules/chains/additional/question_answering.html) specializing for QA tasks"
   ]
  },
  {
   "cell_type": "code",
   "execution_count": 44,
   "metadata": {},
   "outputs": [],
   "source": [
    "from langchain.chains.question_answering import load_qa_chain"
   ]
  },
  {
   "cell_type": "markdown",
   "metadata": {},
   "source": [
    "We create a new prompt, this time taking into account the additional context we retrieve from the corpus"
   ]
  },
  {
   "cell_type": "code",
   "execution_count": 45,
   "metadata": {},
   "outputs": [],
   "source": [
    "example_template = \"\"\"\n",
    "User: {query}\n",
    "AI: {answer}\n",
    "\"\"\"\n",
    "\n",
    "example_prompt = PromptTemplate(\n",
    "    input_variables=[\"query\", \"answer\"],\n",
    "    template=example_template\n",
    ")\n",
    "\n",
    "prefix = \"\"\"You are a useful assistant with artificial intelligence who gives \n",
    "short but accurate answers to the questions asked using provided context.\n",
    "examples: \n",
    "\"\"\"\n",
    "\n",
    "suffix = \"\"\"\n",
    "context: {context}\n",
    "\n",
    "User: {query}\n",
    "AI: \"\"\"\n",
    "\n",
    "# now create the few shot prompt template\n",
    "few_shot_prompt_template = FewShotPromptTemplate(\n",
    "    examples=examples,\n",
    "    example_prompt=example_prompt,\n",
    "    prefix=prefix,\n",
    "    suffix=suffix,\n",
    "    input_variables=[\"context\", \"query\"],\n",
    "    example_separator=\"\\n\\n\"\n",
    ")"
   ]
  },
  {
   "cell_type": "markdown",
   "metadata": {},
   "source": [
    "For qa chain api we need to explicitly provide query with documents, we can make it by using retrieval"
   ]
  },
  {
   "cell_type": "code",
   "execution_count": 46,
   "metadata": {},
   "outputs": [],
   "source": [
    "query = 'What is in front of the Notre Dame Main Building?'\n",
    "docs = retriever.get_relevant_documents(query)"
   ]
  },
  {
   "cell_type": "markdown",
   "metadata": {},
   "source": [
    "Lets take a look at our chain:\n",
    "\n",
    "1. We use `chain_type=\"stuff\"` - it means that we take a list of documents, inserts them all into a prompt and passes that prompt to an LLM.\n",
    "2. `model='text-davinci-003'` - we use Completion API using model OpenAI text-davinci-003\n",
    "3. `temperature=0` - set temperature parameter for sampling\n",
    "4. `\"input_documents\"` - this parameter is in charge of context"
   ]
  },
  {
   "cell_type": "code",
   "execution_count": 47,
   "metadata": {},
   "outputs": [
    {
     "name": "stdout",
     "output_type": "stream",
     "text": [
      "\n",
      "\n",
      "\u001b[1m> Entering new  chain...\u001b[0m\n",
      "\n",
      "\n",
      "\u001b[1m> Entering new  chain...\u001b[0m\n",
      "Prompt after formatting:\n",
      "\u001b[32;1m\u001b[1;3mYou are a useful assistant with artificial intelligence who gives \n",
      "short but accurate answers to the questions asked using provided context.\n",
      "examples: \n",
      "\n",
      "\n",
      "\n",
      "User: How many stories tall is the main library at Notre Dame?\n",
      "AI: 14\n",
      "\n",
      "\n",
      "\n",
      "User: Which prize did Frederick Buechner create?\n",
      "AI: Buechner Prize for Preaching\n",
      "\n",
      "\n",
      "\n",
      "User: There are how many dorms for females at Notre Dame?\n",
      "AI: 14\n",
      "\n",
      "\n",
      "\n",
      "context: Architecturally, the school has a Catholic character. Atop the Main Building's gold dome is a golden statue of the Virgin Mary. Immediately in front of the Main Building and facing it, is a copper statue of Christ with arms upraised with the legend \"Venite Ad Me Omnes\". Next to the Main Building is the Basilica of the Sacred Heart. Immediately behind the basilica is the Grotto, a Marian place of prayer and reflection. It is a replica of the grotto at Lourdes, France where the Virgin Mary reputedly appeared to Saint Bernadette Soubirous in 1858. At the end of the main drive (and in a direct line that connects through 3 statues and the Gold Dome), is a simple, modern stone statue of Mary.\n",
      "\n",
      "The library system of the university is divided between the main library and each of the colleges and schools. The main building is the 14-story Theodore M. Hesburgh Library, completed in 1963, which is the third building to house the main collection of books. The front of the library is adorned with the Word of Life mural designed by artist Millard Sheets. This mural is popularly known as \"Touchdown Jesus\" because of its proximity to Notre Dame Stadium and Jesus' arms appearing to make the signal for a touchdown.\n",
      "\n",
      "The university is affiliated with the Congregation of Holy Cross (Latin: Congregatio a Sancta Cruce, abbreviated postnominals: \"CSC\"). While religious affiliation is not a criterion for admission, more than 93% of students identify as Christian, with over 80% of the total being Catholic. Collectively, Catholic Mass is celebrated over 100 times per week on campus, and a large campus ministry program provides for the faith needs of the community. There are multitudes of religious statues and artwork around campus, most prominent of which are the statue of Mary on the Main Building, the Notre Dame Grotto, and the Word of Life mural on Hesburgh Library depicting Christ as a teacher. Additionally, every classroom displays a crucifix. There are many religious clubs (catholic and non-Catholic) at the school, including Council #1477 of the Knights of Columbus (KOC), Baptist Collegiate Ministry (BCM), Jewish Club, Muslim Student Association, Orthodox Christian Fellowship, The Mormon Club, and many more. The Notre Dame KofC are known for being the first collegiate council of KofC, operating a charitable concession stand during every home football game and owning their own building on campus which can be used as a cigar lounge. Fifty-seven chapels are located throughout the campus.\n",
      "\n",
      "As of 2012[update] research continued in many fields. The university president, John Jenkins, described his hope that Notre Dame would become \"one of the pre–eminent research institutions in the world\" in his inaugural address. The university has many multi-disciplinary institutes devoted to research in varying fields, including the Medieval Institute, the Kellogg Institute for International Studies, the Kroc Institute for International Peace studies, and the Center for Social Concerns. Recent research includes work on family conflict and child development, genome mapping, the increasing trade deficit of the United States with China, studies in fluid mechanics, computational science and engineering, and marketing trends on the Internet. As of 2013, the university is home to the Notre Dame Global Adaptation Index which ranks countries annually based on how vulnerable they are to climate change and how prepared they are to adapt.\n",
      "\n",
      "User: What is in front of the Notre Dame Main Building?\n",
      "AI: \u001b[0m\n",
      "\n",
      "\u001b[1m> Finished chain.\u001b[0m\n",
      "\n",
      "\u001b[1m> Finished chain.\u001b[0m\n"
     ]
    },
    {
     "data": {
      "text/plain": [
       "{'output_text': ' A copper statue of Christ with arms upraised with the legend \"Venite Ad Me Omnes\".'}"
      ]
     },
     "execution_count": 47,
     "metadata": {},
     "output_type": "execute_result"
    }
   ],
   "source": [
    "chain = load_qa_chain(OpenAI(model='text-davinci-003', temperature=0), chain_type=\"stuff\", prompt=few_shot_prompt_template, verbose=True)\n",
    "chain({\"input_documents\": docs, \"query\": query}, return_only_outputs=True)"
   ]
  },
  {
   "cell_type": "markdown",
   "metadata": {},
   "source": [
    "So we can explain what happens under the hood:\n",
    "\n",
    "1. We take out prompt template with examples how our answer should looks like\n",
    "2. We select 5 most similar contexts to our query and insert it inside our prompt along with query (final prompt marked as green text)\n",
    "3. Provide it to the LLM\n",
    "4. Collect the result"
   ]
  },
  {
   "cell_type": "markdown",
   "metadata": {},
   "source": [
    "To see prompt and another debug information we use `verbose=True` parameter"
   ]
  },
  {
   "cell_type": "markdown",
   "metadata": {},
   "source": [
    "### 3.4 Make predictions with context"
   ]
  },
  {
   "cell_type": "code",
   "execution_count": 18,
   "metadata": {},
   "outputs": [],
   "source": [
    "def make_prediction_with_context(query, retriever=retriever, prompt=few_shot_prompt_template):\n",
    "    docs = retriever.get_relevant_documents(query)\n",
    "    \n",
    "    chain = load_qa_chain(OpenAI(model='text-davinci-003', temperature=0), chain_type=\"stuff\", prompt=prompt)\n",
    "    out = chain({\"input_documents\": docs, \"query\": query}, return_only_outputs=True)\n",
    "    return out['output_text']"
   ]
  },
  {
   "cell_type": "code",
   "execution_count": null,
   "metadata": {},
   "outputs": [],
   "source": [
    "samples['llm_answers_with_context'] = samples['question'].map(make_prediction_with_context)"
   ]
  },
  {
   "cell_type": "code",
   "execution_count": 25,
   "metadata": {},
   "outputs": [],
   "source": [
    "samples.to_csv('data/sample_answers_with_context.csv', index=False)"
   ]
  },
  {
   "cell_type": "code",
   "execution_count": 52,
   "metadata": {},
   "outputs": [],
   "source": [
    "# samples = pd.read_csv('data/sample_answers_with_context.csv')"
   ]
  },
  {
   "cell_type": "code",
   "execution_count": 51,
   "metadata": {},
   "outputs": [
    {
     "data": {
      "text/html": [
       "<div>\n",
       "<style scoped>\n",
       "    .dataframe tbody tr th:only-of-type {\n",
       "        vertical-align: middle;\n",
       "    }\n",
       "\n",
       "    .dataframe tbody tr th {\n",
       "        vertical-align: top;\n",
       "    }\n",
       "\n",
       "    .dataframe thead th {\n",
       "        text-align: right;\n",
       "    }\n",
       "</style>\n",
       "<table border=\"1\" class=\"dataframe\">\n",
       "  <thead>\n",
       "    <tr style=\"text-align: right;\">\n",
       "      <th></th>\n",
       "      <th>id</th>\n",
       "      <th>question</th>\n",
       "      <th>context</th>\n",
       "      <th>answer</th>\n",
       "      <th>llm_answers</th>\n",
       "      <th>llm_answers_with_context</th>\n",
       "    </tr>\n",
       "  </thead>\n",
       "  <tbody>\n",
       "    <tr>\n",
       "      <th>21</th>\n",
       "      <td>5733b2fe4776f41900661092</td>\n",
       "      <td>In what year did Lobund at Notre Dame become a...</td>\n",
       "      <td>The Lobund Institute grew out of pioneering re...</td>\n",
       "      <td>1950</td>\n",
       "      <td>1949</td>\n",
       "      <td>1950</td>\n",
       "    </tr>\n",
       "    <tr>\n",
       "      <th>16</th>\n",
       "      <td>5733b2fe4776f41900661093</td>\n",
       "      <td>The Lobund Institute was merged into the Depar...</td>\n",
       "      <td>The Lobund Institute grew out of pioneering re...</td>\n",
       "      <td>1958</td>\n",
       "      <td>1966</td>\n",
       "      <td>1958</td>\n",
       "    </tr>\n",
       "    <tr>\n",
       "      <th>26</th>\n",
       "      <td>57338724d058e614000b5c9d</td>\n",
       "      <td>In 1919 a new president of Notre Dame was name...</td>\n",
       "      <td>In 1919 Father James Burns became president of...</td>\n",
       "      <td>Father James Burns</td>\n",
       "      <td>Edward Frederick O'Hara.</td>\n",
       "      <td>Father James Burns</td>\n",
       "    </tr>\n",
       "    <tr>\n",
       "      <th>0</th>\n",
       "      <td>5733a7bd4776f41900660f6d</td>\n",
       "      <td>Which department at Notre Dame is the only one...</td>\n",
       "      <td>The university first offered graduate degrees,...</td>\n",
       "      <td>Department of Pre-Professional Studies</td>\n",
       "      <td>Mendoza College of Business</td>\n",
       "      <td>Pre-Professional Studies</td>\n",
       "    </tr>\n",
       "    <tr>\n",
       "      <th>15</th>\n",
       "      <td>5733b0fb4776f41900661042</td>\n",
       "      <td>What professorship did Father Josh Carrier hol...</td>\n",
       "      <td>Father Joseph Carrier, C.S.C. was Director of ...</td>\n",
       "      <td>Professor of Chemistry and Physics</td>\n",
       "      <td>Charles E. Sheedy, CSC, Professorship in the ...</td>\n",
       "      <td>Professor of Chemistry and Physics</td>\n",
       "    </tr>\n",
       "    <tr>\n",
       "      <th>8</th>\n",
       "      <td>5733a6424776f41900660f51</td>\n",
       "      <td>How many BS level degrees are offered in the C...</td>\n",
       "      <td>The College of Engineering was established in ...</td>\n",
       "      <td>eight</td>\n",
       "      <td>eight</td>\n",
       "      <td>Eight B.S. degrees.</td>\n",
       "    </tr>\n",
       "    <tr>\n",
       "      <th>23</th>\n",
       "      <td>57338724d058e614000b5c9e</td>\n",
       "      <td>Over how many years did the change to national...</td>\n",
       "      <td>In 1919 Father James Burns became president of...</td>\n",
       "      <td>three years</td>\n",
       "      <td>10 years</td>\n",
       "      <td>Three years.</td>\n",
       "    </tr>\n",
       "    <tr>\n",
       "      <th>29</th>\n",
       "      <td>5733bed24776f41900661188</td>\n",
       "      <td>Where is the headquarters of the Congregation ...</td>\n",
       "      <td>The university is the major seat of the Congre...</td>\n",
       "      <td>Rome</td>\n",
       "      <td>Rome, Italy</td>\n",
       "      <td>Rome, Italy.</td>\n",
       "    </tr>\n",
       "    <tr>\n",
       "      <th>9</th>\n",
       "      <td>5733be284776f41900661180</td>\n",
       "      <td>The Basilica of the Sacred heart at Notre Dame...</td>\n",
       "      <td>Architecturally, the school has a Catholic cha...</td>\n",
       "      <td>the Main Building</td>\n",
       "      <td>The Grotto of Our Lady of Lourdes.</td>\n",
       "      <td>The Main Building.</td>\n",
       "    </tr>\n",
       "    <tr>\n",
       "      <th>11</th>\n",
       "      <td>5733b5344776f419006610de</td>\n",
       "      <td>The Kellogg Institute for International Studie...</td>\n",
       "      <td>As of 2012[update] research continued in many ...</td>\n",
       "      <td>Notre Dame</td>\n",
       "      <td>University of Notre Dame</td>\n",
       "      <td>University of Notre Dame</td>\n",
       "    </tr>\n",
       "  </tbody>\n",
       "</table>\n",
       "</div>"
      ],
      "text/plain": [
       "                          id  \\\n",
       "21  5733b2fe4776f41900661092   \n",
       "16  5733b2fe4776f41900661093   \n",
       "26  57338724d058e614000b5c9d   \n",
       "0   5733a7bd4776f41900660f6d   \n",
       "15  5733b0fb4776f41900661042   \n",
       "8   5733a6424776f41900660f51   \n",
       "23  57338724d058e614000b5c9e   \n",
       "29  5733bed24776f41900661188   \n",
       "9   5733be284776f41900661180   \n",
       "11  5733b5344776f419006610de   \n",
       "\n",
       "                                             question  \\\n",
       "21  In what year did Lobund at Notre Dame become a...   \n",
       "16  The Lobund Institute was merged into the Depar...   \n",
       "26  In 1919 a new president of Notre Dame was name...   \n",
       "0   Which department at Notre Dame is the only one...   \n",
       "15  What professorship did Father Josh Carrier hol...   \n",
       "8   How many BS level degrees are offered in the C...   \n",
       "23  Over how many years did the change to national...   \n",
       "29  Where is the headquarters of the Congregation ...   \n",
       "9   The Basilica of the Sacred heart at Notre Dame...   \n",
       "11  The Kellogg Institute for International Studie...   \n",
       "\n",
       "                                              context  \\\n",
       "21  The Lobund Institute grew out of pioneering re...   \n",
       "16  The Lobund Institute grew out of pioneering re...   \n",
       "26  In 1919 Father James Burns became president of...   \n",
       "0   The university first offered graduate degrees,...   \n",
       "15  Father Joseph Carrier, C.S.C. was Director of ...   \n",
       "8   The College of Engineering was established in ...   \n",
       "23  In 1919 Father James Burns became president of...   \n",
       "29  The university is the major seat of the Congre...   \n",
       "9   Architecturally, the school has a Catholic cha...   \n",
       "11  As of 2012[update] research continued in many ...   \n",
       "\n",
       "                                    answer  \\\n",
       "21                                    1950   \n",
       "16                                    1958   \n",
       "26                      Father James Burns   \n",
       "0   Department of Pre-Professional Studies   \n",
       "15      Professor of Chemistry and Physics   \n",
       "8                                    eight   \n",
       "23                             three years   \n",
       "29                                    Rome   \n",
       "9                        the Main Building   \n",
       "11                              Notre Dame   \n",
       "\n",
       "                                          llm_answers  \\\n",
       "21                                               1949   \n",
       "16                                               1966   \n",
       "26                           Edward Frederick O'Hara.   \n",
       "0                         Mendoza College of Business   \n",
       "15   Charles E. Sheedy, CSC, Professorship in the ...   \n",
       "8                                               eight   \n",
       "23                                           10 years   \n",
       "29                                        Rome, Italy   \n",
       "9                  The Grotto of Our Lady of Lourdes.   \n",
       "11                           University of Notre Dame   \n",
       "\n",
       "               llm_answers_with_context  \n",
       "21                                 1950  \n",
       "16                                 1958  \n",
       "26                   Father James Burns  \n",
       "0              Pre-Professional Studies  \n",
       "15   Professor of Chemistry and Physics  \n",
       "8                   Eight B.S. degrees.  \n",
       "23                         Three years.  \n",
       "29                         Rome, Italy.  \n",
       "9                    The Main Building.  \n",
       "11             University of Notre Dame  "
      ]
     },
     "execution_count": 51,
     "metadata": {},
     "output_type": "execute_result"
    }
   ],
   "source": [
    "samples.sample(10)"
   ]
  },
  {
   "cell_type": "markdown",
   "metadata": {},
   "source": [
    "Lets measure the score"
   ]
  },
  {
   "cell_type": "code",
   "execution_count": 50,
   "metadata": {},
   "outputs": [
    {
     "data": {
      "text/plain": [
       "{'exact': 10.0,\n",
       " 'f1': 28.064213564213567,\n",
       " 'total': 30,\n",
       " 'HasAns_exact': 10.0,\n",
       " 'HasAns_f1': 28.064213564213567,\n",
       " 'HasAns_total': 30,\n",
       " 'best_exact': 10.0,\n",
       " 'best_exact_thresh': 0.0,\n",
       " 'best_f1': 28.064213564213567,\n",
       " 'best_f1_thresh': 0.0,\n",
       " 'rouge1': 0.28449735449735447,\n",
       " 'rouge2': 0.11888888888888888,\n",
       " 'rougeL': 0.28488756613756616,\n",
       " 'rougeLsum': 0.2876917989417989}"
      ]
     },
     "execution_count": 50,
     "metadata": {},
     "output_type": "execute_result"
    }
   ],
   "source": [
    "evaluate_llm(samples, pred_col='llm_answers')"
   ]
  },
  {
   "cell_type": "code",
   "execution_count": 49,
   "metadata": {},
   "outputs": [
    {
     "data": {
      "text/plain": [
       "{'exact': 66.66666666666667,\n",
       " 'f1': 77.90196078431373,\n",
       " 'total': 30,\n",
       " 'HasAns_exact': 66.66666666666667,\n",
       " 'HasAns_f1': 77.90196078431373,\n",
       " 'HasAns_total': 30,\n",
       " 'best_exact': 66.66666666666667,\n",
       " 'best_exact_thresh': 0.0,\n",
       " 'best_f1': 77.90196078431373,\n",
       " 'best_f1_thresh': 0.0,\n",
       " 'rouge1': 0.7714995189995191,\n",
       " 'rouge2': 0.6562962962962964,\n",
       " 'rougeL': 0.7745815295815295,\n",
       " 'rougeLsum': 0.7731349206349207}"
      ]
     },
     "execution_count": 49,
     "metadata": {},
     "output_type": "execute_result"
    }
   ],
   "source": [
    "evaluate_llm(samples, pred_col='llm_answers_with_context')"
   ]
  },
  {
   "cell_type": "markdown",
   "metadata": {},
   "source": [
    "As we can see, exact, f1 and rouge scores is much better if we provide context to the model!"
   ]
  },
  {
   "cell_type": "markdown",
   "metadata": {},
   "source": [
    "## 4. Conclusion"
   ]
  },
  {
   "cell_type": "markdown",
   "metadata": {},
   "source": [
    "Enriching Large Language Models (LLMs) with a context drawn from a document corpus is an effective strategy to tailor the general reasoning and linguistic interactions of LLMs to your specific data. Nonetheless, it's crucial to realize that simple query and retrieval might not yield the optimal results! A thorough understanding of the data is essential to fully leverage the benefits of a retrieval-based question-answering methodology."
   ]
  },
  {
   "cell_type": "markdown",
   "metadata": {},
   "source": [
    "## 5. Useful links"
   ]
  },
  {
   "cell_type": "markdown",
   "metadata": {},
   "source": [
    "- https://python.langchain.com/docs/use_cases/question_answering/semantic-search-over-chat\n",
    "- https://python.langchain.com/docs/guides/evaluation/question_answering\n",
    "- https://github.com/openai/openai-cookbook/blob/main/examples/vector_databases/chroma/hyde-with-chroma-and-openai.ipynb\n",
    "- https://www.youtube.com/watch?v=FQnvfR8Dmr0\n",
    "- https://platform.openai.com/docs/guides/gpt-best-practices\n",
    "- https://platform.openai.com/docs/tutorials/web-qa-embeddings"
   ]
  },
  {
   "cell_type": "markdown",
   "metadata": {},
   "source": [
    "## 6. Bonus: Real project use case"
   ]
  },
  {
   "cell_type": "markdown",
   "metadata": {},
   "source": [
    "In this section, i want to show how we implemented Question Answering with LLM in an actual customer project. I'll highlight the challenges we encountered and discuss the outcomes we achieved."
   ]
  },
  {
   "cell_type": "markdown",
   "metadata": {},
   "source": [
    "### 6.1. Problem description"
   ]
  },
  {
   "cell_type": "markdown",
   "metadata": {},
   "source": [
    "The client operates an online support platform featuring a vast array of topics, each consisting of a central question and a series of associated discussion messages. This platform, while rich in content, was posing a significant challenge for the client's support team who found themselves dedicating substantial amounts of time to address complex customer inquiries.\n",
    "\n",
    "To streamline this process and make information retrieval more efficient, we suggested the deployment of a Large Language Model (LLM). The intention was to leverage the LLM's capabilities for contextual search and question answering, enabling a quicker resolution of customer queries. This approach promised not only to optimize the support team's workflow but also to enhance the overall user experience on the platform"
   ]
  },
  {
   "cell_type": "markdown",
   "metadata": {},
   "source": [
    "Our team encountered several significant challenges during this project. First, we needed to ensure accuracy despite not having access to a historical dataset of user queries. Secondly, the data we were working with was unstructured and included various types of content such as private information, SQL, logs, code snippets, and XML. Further complicating matters, the data set also contained unrelated threads which were not relevant to the clients' issues. These factors combined to make this a complex, multifaceted problem that required a sophisticated solution"
   ]
  },
  {
   "cell_type": "markdown",
   "metadata": {},
   "source": [
    "### 6.2. Solution"
   ]
  },
  {
   "cell_type": "markdown",
   "metadata": {},
   "source": [
    "There are main highlight of the solution:\n",
    "\n",
    "1. 150k messages (HTML)\n",
    "2. Cleaning data from HTML format, removed sensetive data and unrelated threads\n",
    "3. Applied context filtration to provide only relevant context to the model or dont provide any\n",
    "4. Human in the loop evaluation\n",
    "5. Included references to the original content to enable support team verify the responses\n",
    "6. Small amount of ground truth from experts (~10 samples)"
   ]
  },
  {
   "cell_type": "markdown",
   "metadata": {},
   "source": [
    "Below is how solution looks like"
   ]
  },
  {
   "cell_type": "code",
   "execution_count": null,
   "metadata": {},
   "outputs": [],
   "source": []
  },
  {
   "cell_type": "markdown",
   "metadata": {},
   "source": [
    "![](resources/sol.jpg)"
   ]
  },
  {
   "cell_type": "markdown",
   "metadata": {},
   "source": [
    "![](resources/obfuscated.jpg)"
   ]
  },
  {
   "cell_type": "markdown",
   "metadata": {},
   "source": [
    "### 6.3. Result\n",
    "\n",
    "As a result, we achieved notable time savings for the support team, reducing the time spent on addressing complex customer inquiries. The user experience on the platform was significantly enhanced, and the overall productivity of the support team improved, showcasing the efficacy and practicality of our AI-powered solution."
   ]
  },
  {
   "cell_type": "code",
   "execution_count": null,
   "metadata": {},
   "outputs": [],
   "source": []
  },
  {
   "cell_type": "markdown",
   "metadata": {},
   "source": [
    "While the integration of a Large Language Model offers substantial benefits, it's essential to understand that merely deploying the LLM API will not instantly solve all challenges or maximize the value derived from its use. There are several limitations and hurdles to be aware of:\n",
    "\n",
    "1. **Data Privacy:** Real-world datasets often contain sensitive information that must be carefully handled to maintain privacy standards. Simply feeding all data to the LLM may violate privacy rules, requiring us to develop methods for identifying and removing or anonymizing such sensitive information.\n",
    "\n",
    "2. **Unstructured Data:** LLMs perform best when the data is well-structured and consistent, which is not always the case with real-world data. Unstructured data, such as free text fields, SQL, logs, code snippets, and XML, require significant pre-processing before they can be effectively utilized by the LLM.\n",
    "\n",
    "3. **Data Gathering and Preparation:** Collecting and preparing the data for use with the LLM is a non-trivial task that can demand significant time and resources. This includes data cleaning, removal of irrelevant threads, and formatting the data in a way that the LLM can interpret.\n",
    "\n",
    "4. **Context Relevance:** Not all data in a given dataset may be relevant to the task at hand. Ensuring that the LLM receives only pertinent context to generate accurate and useful responses is an additional challenge that must be addressed.\n",
    "\n",
    "5. **Evaluation and Verification:** While LLMs can generate responses, verifying the accuracy and appropriateness of these responses is another issue. A human-in-the-loop approach can enhance reliability but also adds another step in the process, which can potentially slow down response times and add to resource demands.\n",
    "\n",
    "In summary, while LLMs provide a powerful tool for tasks such as question answering and contextual search, their successful implementation requires careful planning, data handling, and an understanding of the inherent limitations."
   ]
  }
 ],
 "metadata": {
  "kernelspec": {
   "display_name": "Python 3 (ipykernel)",
   "language": "python",
   "name": "python3"
  },
  "language_info": {
   "codemirror_mode": {
    "name": "ipython",
    "version": 3
   },
   "file_extension": ".py",
   "mimetype": "text/x-python",
   "name": "python",
   "nbconvert_exporter": "python",
   "pygments_lexer": "ipython3",
   "version": "3.9.12"
  },
  "vscode": {
   "interpreter": {
    "hash": "bd385fe162c5ca0c84973b7dd5c518456272446b2b64e67c2a69f949ca7a1754"
   }
  }
 },
 "nbformat": 4,
 "nbformat_minor": 4
}
